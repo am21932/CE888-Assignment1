{
 "cells": [
  {
   "cell_type": "markdown",
   "id": "12a470e6",
   "metadata": {},
   "source": [
    "# FOREX_chfjpy"
   ]
  },
  {
   "cell_type": "code",
   "execution_count": 508,
   "id": "791aa7c7",
   "metadata": {},
   "outputs": [],
   "source": [
    "import pandas as pd\n",
    "import numpy as np\n",
    "import matplotlib.pyplot as plt\n",
    "import seaborn as sn\n",
    "from sklearn import preprocessing\n"
   ]
  },
  {
   "cell_type": "code",
   "execution_count": 507,
   "id": "6e9dba4c",
   "metadata": {},
   "outputs": [],
   "source": [
    "# Creating the function that returns the percentage of each class in the dataset \n",
    "\n",
    "def imbalance(elements):\n",
    "    percent=[]\n",
    "    sum_of_elements=np.sum(elements)\n",
    "    for i in range(len(elements)):\n",
    "        percent.append((elements[i]/sum_of_elements)*100)\n",
    "    return percent"
   ]
  },
  {
   "cell_type": "code",
   "execution_count": 509,
   "id": "40c6cb3e",
   "metadata": {},
   "outputs": [],
   "source": [
    "# Function to create imbalanced dataset, imb_percent represents the imbalance in decimals.\n",
    "\n",
    "def create_imbalanced_data_for_stars(imb_percent, size_of_one_class):\n",
    "    size = int(size_of_one_class/imb_percent)\n",
    "    data_0 = dforex.query(\"Class==0\").sample(size-size_of_one_class)\n",
    "    data_1 = dforex.query(\"Class==1\")\n",
    "    return pd.concat([data_0, data_1])"
   ]
  },
  {
   "cell_type": "code",
   "execution_count": 510,
   "id": "c754654d",
   "metadata": {},
   "outputs": [
    {
     "name": "stdout",
     "output_type": "stream",
     "text": [
      "<class 'pandas.core.frame.DataFrame'>\n",
      "RangeIndex: 1832 entries, 0 to 1831\n",
      "Data columns (total 12 columns):\n",
      " #   Column      Non-Null Count  Dtype  \n",
      "---  ------      --------------  -----  \n",
      " 0   Timestamp   1832 non-null   object \n",
      " 1   Bid_Open    1832 non-null   float64\n",
      " 2   Bid_High    1832 non-null   float64\n",
      " 3   Bid_Low     1832 non-null   float64\n",
      " 4   Bid_Close   1832 non-null   float64\n",
      " 5   Bid_Volume  1832 non-null   float64\n",
      " 6   Ask_Open    1832 non-null   float64\n",
      " 7   Ask_High    1832 non-null   float64\n",
      " 8   Ask_Low     1832 non-null   float64\n",
      " 9   Ask_Close   1832 non-null   float64\n",
      " 10  Ask_Volume  1832 non-null   float64\n",
      " 11  Class       1832 non-null   bool   \n",
      "dtypes: bool(1), float64(10), object(1)\n",
      "memory usage: 159.4+ KB\n",
      "None\n",
      "Null values present - , False\n"
     ]
    }
   ],
   "source": [
    "# Reading the file and checking if any null values are present\n",
    "\n",
    "dforex = pd.read_csv(\"FOREX_chfjpy.csv\")\n",
    "print(dforex.info())\n",
    "print(\"Null values present - ,\", dforex.isnull().values.any())"
   ]
  },
  {
   "cell_type": "code",
   "execution_count": 511,
   "id": "2da4255b",
   "metadata": {},
   "outputs": [
    {
     "data": {
      "text/html": [
       "<div>\n",
       "<style scoped>\n",
       "    .dataframe tbody tr th:only-of-type {\n",
       "        vertical-align: middle;\n",
       "    }\n",
       "\n",
       "    .dataframe tbody tr th {\n",
       "        vertical-align: top;\n",
       "    }\n",
       "\n",
       "    .dataframe thead th {\n",
       "        text-align: right;\n",
       "    }\n",
       "</style>\n",
       "<table border=\"1\" class=\"dataframe\">\n",
       "  <thead>\n",
       "    <tr style=\"text-align: right;\">\n",
       "      <th></th>\n",
       "      <th>Timestamp</th>\n",
       "      <th>Bid_Open</th>\n",
       "      <th>Bid_High</th>\n",
       "      <th>Bid_Low</th>\n",
       "      <th>Bid_Close</th>\n",
       "      <th>Bid_Volume</th>\n",
       "      <th>Ask_Open</th>\n",
       "      <th>Ask_High</th>\n",
       "      <th>Ask_Low</th>\n",
       "      <th>Ask_Close</th>\n",
       "      <th>Ask_Volume</th>\n",
       "      <th>Class</th>\n",
       "    </tr>\n",
       "  </thead>\n",
       "  <tbody>\n",
       "    <tr>\n",
       "      <th>0</th>\n",
       "      <td>'2011-12-31T23:00:00'</td>\n",
       "      <td>81.863</td>\n",
       "      <td>81.952</td>\n",
       "      <td>81.863</td>\n",
       "      <td>81.952</td>\n",
       "      <td>0.0000</td>\n",
       "      <td>81.961</td>\n",
       "      <td>82.008</td>\n",
       "      <td>81.961</td>\n",
       "      <td>82.008</td>\n",
       "      <td>0.0000</td>\n",
       "      <td>False</td>\n",
       "    </tr>\n",
       "    <tr>\n",
       "      <th>1</th>\n",
       "      <td>'2012-01-01T23:00:00'</td>\n",
       "      <td>81.954</td>\n",
       "      <td>82.304</td>\n",
       "      <td>81.636</td>\n",
       "      <td>81.787</td>\n",
       "      <td>35782.4102</td>\n",
       "      <td>81.986</td>\n",
       "      <td>82.423</td>\n",
       "      <td>81.748</td>\n",
       "      <td>81.848</td>\n",
       "      <td>35244.9298</td>\n",
       "      <td>True</td>\n",
       "    </tr>\n",
       "    <tr>\n",
       "      <th>2</th>\n",
       "      <td>'2012-01-02T23:00:00'</td>\n",
       "      <td>81.791</td>\n",
       "      <td>82.364</td>\n",
       "      <td>81.712</td>\n",
       "      <td>82.301</td>\n",
       "      <td>155866.2610</td>\n",
       "      <td>81.854</td>\n",
       "      <td>82.395</td>\n",
       "      <td>81.736</td>\n",
       "      <td>82.341</td>\n",
       "      <td>156616.0903</td>\n",
       "      <td>False</td>\n",
       "    </tr>\n",
       "    <tr>\n",
       "      <th>3</th>\n",
       "      <td>'2012-01-03T23:00:00'</td>\n",
       "      <td>82.301</td>\n",
       "      <td>82.402</td>\n",
       "      <td>81.275</td>\n",
       "      <td>81.445</td>\n",
       "      <td>132793.3208</td>\n",
       "      <td>82.337</td>\n",
       "      <td>82.438</td>\n",
       "      <td>81.290</td>\n",
       "      <td>81.478</td>\n",
       "      <td>131859.6802</td>\n",
       "      <td>False</td>\n",
       "    </tr>\n",
       "    <tr>\n",
       "      <th>4</th>\n",
       "      <td>'2012-01-04T23:00:00'</td>\n",
       "      <td>81.444</td>\n",
       "      <td>81.529</td>\n",
       "      <td>80.795</td>\n",
       "      <td>80.934</td>\n",
       "      <td>172505.1388</td>\n",
       "      <td>81.477</td>\n",
       "      <td>81.548</td>\n",
       "      <td>80.810</td>\n",
       "      <td>80.974</td>\n",
       "      <td>180069.3571</td>\n",
       "      <td>False</td>\n",
       "    </tr>\n",
       "  </tbody>\n",
       "</table>\n",
       "</div>"
      ],
      "text/plain": [
       "               Timestamp  Bid_Open  Bid_High  Bid_Low  Bid_Close   Bid_Volume  \\\n",
       "0  '2011-12-31T23:00:00'    81.863    81.952   81.863     81.952       0.0000   \n",
       "1  '2012-01-01T23:00:00'    81.954    82.304   81.636     81.787   35782.4102   \n",
       "2  '2012-01-02T23:00:00'    81.791    82.364   81.712     82.301  155866.2610   \n",
       "3  '2012-01-03T23:00:00'    82.301    82.402   81.275     81.445  132793.3208   \n",
       "4  '2012-01-04T23:00:00'    81.444    81.529   80.795     80.934  172505.1388   \n",
       "\n",
       "   Ask_Open  Ask_High  Ask_Low  Ask_Close   Ask_Volume  Class  \n",
       "0    81.961    82.008   81.961     82.008       0.0000  False  \n",
       "1    81.986    82.423   81.748     81.848   35244.9298   True  \n",
       "2    81.854    82.395   81.736     82.341  156616.0903  False  \n",
       "3    82.337    82.438   81.290     81.478  131859.6802  False  \n",
       "4    81.477    81.548   80.810     80.974  180069.3571  False  "
      ]
     },
     "execution_count": 511,
     "metadata": {},
     "output_type": "execute_result"
    }
   ],
   "source": [
    "# displaying the data\n",
    "\n",
    "dforex.head()"
   ]
  },
  {
   "cell_type": "code",
   "execution_count": 512,
   "id": "e85e6611",
   "metadata": {},
   "outputs": [
    {
     "data": {
      "text/plain": [
       "'2011-12-31T23:00:00'    1\n",
       "'2016-09-11T23:00:00'    1\n",
       "'2016-09-07T23:00:00'    1\n",
       "'2016-09-06T23:00:00'    1\n",
       "'2016-09-05T23:00:00'    1\n",
       "                        ..\n",
       "'2014-04-22T23:00:00'    1\n",
       "'2014-04-21T23:00:00'    1\n",
       "'2014-04-20T23:00:00'    1\n",
       "'2014-04-17T23:00:00'    1\n",
       "'2018-12-31T23:00:00'    1\n",
       "Name: Timestamp, Length: 1832, dtype: int64"
      ]
     },
     "execution_count": 512,
     "metadata": {},
     "output_type": "execute_result"
    }
   ],
   "source": [
    "# checking if Timestamp contains only unique records\n",
    "\n",
    "dforex[\"Timestamp\"].value_counts()"
   ]
  },
  {
   "cell_type": "markdown",
   "id": "e02dbca5",
   "metadata": {},
   "source": [
    "###### Since our 'Class' is of bool type, we will encode it using the LABEL ENCODING before plotting the graphs"
   ]
  },
  {
   "cell_type": "code",
   "execution_count": 513,
   "id": "9063ca4c",
   "metadata": {},
   "outputs": [
    {
     "data": {
      "text/html": [
       "<div>\n",
       "<style scoped>\n",
       "    .dataframe tbody tr th:only-of-type {\n",
       "        vertical-align: middle;\n",
       "    }\n",
       "\n",
       "    .dataframe tbody tr th {\n",
       "        vertical-align: top;\n",
       "    }\n",
       "\n",
       "    .dataframe thead th {\n",
       "        text-align: right;\n",
       "    }\n",
       "</style>\n",
       "<table border=\"1\" class=\"dataframe\">\n",
       "  <thead>\n",
       "    <tr style=\"text-align: right;\">\n",
       "      <th></th>\n",
       "      <th>Timestamp</th>\n",
       "      <th>Bid_Open</th>\n",
       "      <th>Bid_High</th>\n",
       "      <th>Bid_Low</th>\n",
       "      <th>Bid_Close</th>\n",
       "      <th>Bid_Volume</th>\n",
       "      <th>Ask_Open</th>\n",
       "      <th>Ask_High</th>\n",
       "      <th>Ask_Low</th>\n",
       "      <th>Ask_Close</th>\n",
       "      <th>Ask_Volume</th>\n",
       "      <th>Class</th>\n",
       "    </tr>\n",
       "  </thead>\n",
       "  <tbody>\n",
       "    <tr>\n",
       "      <th>0</th>\n",
       "      <td>'2011-12-31T23:00:00'</td>\n",
       "      <td>81.863</td>\n",
       "      <td>81.952</td>\n",
       "      <td>81.863</td>\n",
       "      <td>81.952</td>\n",
       "      <td>0.0000</td>\n",
       "      <td>81.961</td>\n",
       "      <td>82.008</td>\n",
       "      <td>81.961</td>\n",
       "      <td>82.008</td>\n",
       "      <td>0.0000</td>\n",
       "      <td>0</td>\n",
       "    </tr>\n",
       "    <tr>\n",
       "      <th>1</th>\n",
       "      <td>'2012-01-01T23:00:00'</td>\n",
       "      <td>81.954</td>\n",
       "      <td>82.304</td>\n",
       "      <td>81.636</td>\n",
       "      <td>81.787</td>\n",
       "      <td>35782.4102</td>\n",
       "      <td>81.986</td>\n",
       "      <td>82.423</td>\n",
       "      <td>81.748</td>\n",
       "      <td>81.848</td>\n",
       "      <td>35244.9298</td>\n",
       "      <td>1</td>\n",
       "    </tr>\n",
       "    <tr>\n",
       "      <th>2</th>\n",
       "      <td>'2012-01-02T23:00:00'</td>\n",
       "      <td>81.791</td>\n",
       "      <td>82.364</td>\n",
       "      <td>81.712</td>\n",
       "      <td>82.301</td>\n",
       "      <td>155866.2610</td>\n",
       "      <td>81.854</td>\n",
       "      <td>82.395</td>\n",
       "      <td>81.736</td>\n",
       "      <td>82.341</td>\n",
       "      <td>156616.0903</td>\n",
       "      <td>0</td>\n",
       "    </tr>\n",
       "    <tr>\n",
       "      <th>3</th>\n",
       "      <td>'2012-01-03T23:00:00'</td>\n",
       "      <td>82.301</td>\n",
       "      <td>82.402</td>\n",
       "      <td>81.275</td>\n",
       "      <td>81.445</td>\n",
       "      <td>132793.3208</td>\n",
       "      <td>82.337</td>\n",
       "      <td>82.438</td>\n",
       "      <td>81.290</td>\n",
       "      <td>81.478</td>\n",
       "      <td>131859.6802</td>\n",
       "      <td>0</td>\n",
       "    </tr>\n",
       "    <tr>\n",
       "      <th>4</th>\n",
       "      <td>'2012-01-04T23:00:00'</td>\n",
       "      <td>81.444</td>\n",
       "      <td>81.529</td>\n",
       "      <td>80.795</td>\n",
       "      <td>80.934</td>\n",
       "      <td>172505.1388</td>\n",
       "      <td>81.477</td>\n",
       "      <td>81.548</td>\n",
       "      <td>80.810</td>\n",
       "      <td>80.974</td>\n",
       "      <td>180069.3571</td>\n",
       "      <td>0</td>\n",
       "    </tr>\n",
       "  </tbody>\n",
       "</table>\n",
       "</div>"
      ],
      "text/plain": [
       "               Timestamp  Bid_Open  Bid_High  Bid_Low  Bid_Close   Bid_Volume  \\\n",
       "0  '2011-12-31T23:00:00'    81.863    81.952   81.863     81.952       0.0000   \n",
       "1  '2012-01-01T23:00:00'    81.954    82.304   81.636     81.787   35782.4102   \n",
       "2  '2012-01-02T23:00:00'    81.791    82.364   81.712     82.301  155866.2610   \n",
       "3  '2012-01-03T23:00:00'    82.301    82.402   81.275     81.445  132793.3208   \n",
       "4  '2012-01-04T23:00:00'    81.444    81.529   80.795     80.934  172505.1388   \n",
       "\n",
       "   Ask_Open  Ask_High  Ask_Low  Ask_Close   Ask_Volume  Class  \n",
       "0    81.961    82.008   81.961     82.008       0.0000      0  \n",
       "1    81.986    82.423   81.748     81.848   35244.9298      1  \n",
       "2    81.854    82.395   81.736     82.341  156616.0903      0  \n",
       "3    82.337    82.438   81.290     81.478  131859.6802      0  \n",
       "4    81.477    81.548   80.810     80.974  180069.3571      0  "
      ]
     },
     "execution_count": 513,
     "metadata": {},
     "output_type": "execute_result"
    }
   ],
   "source": [
    "# encoding the Class with label encoder\n",
    "\n",
    "label_encoder = preprocessing.LabelEncoder()\n",
    "dforex['Class']= label_encoder.fit_transform(dforex['Class']) \n",
    "dforex.head()"
   ]
  },
  {
   "cell_type": "code",
   "execution_count": 514,
   "id": "ec160c70",
   "metadata": {},
   "outputs": [],
   "source": [
    "# changing the datatype of Timestamp column to datetime\n",
    "\n",
    "dforex['Timestamp'] = pd.to_datetime(dforex['Timestamp'])"
   ]
  },
  {
   "cell_type": "code",
   "execution_count": 515,
   "id": "73cc098e",
   "metadata": {},
   "outputs": [
    {
     "name": "stdout",
     "output_type": "stream",
     "text": [
      "1    921\n",
      "0    911\n",
      "Name: Class, dtype: int64\n"
     ]
    },
    {
     "data": {
      "text/plain": [
       "[49.72707423580786, 50.272925764192145]"
      ]
     },
     "execution_count": 515,
     "metadata": {},
     "output_type": "execute_result"
    }
   ],
   "source": [
    "# print the value counts of Class column and get the imbalance \n",
    "\n",
    "print(dforex[\"Class\"].value_counts())\n",
    "imbalance([dforex[\"Class\"].value_counts()[0], dforex[\"Class\"].value_counts()[1]])"
   ]
  },
  {
   "cell_type": "code",
   "execution_count": 516,
   "id": "bab00ac9",
   "metadata": {},
   "outputs": [
    {
     "data": {
      "image/png": "[encoded data removed]",
      "text/plain": [
       "<Figure size 936x1080 with 12 Axes>"
      ]
     },
     "metadata": {
      "needs_background": "light"
     },
     "output_type": "display_data"
    }
   ],
   "source": [
    "# plotting the columns\n",
    "\n",
    "_ = dforex.hist(bins=50, figsize=(13,15))"
   ]
  },
  {
   "cell_type": "code",
   "execution_count": 517,
   "id": "8de538f0",
   "metadata": {},
   "outputs": [
    {
     "data": {
      "image/png": "[encoded data removed]",
      "text/plain": [
       "<Figure size 936x576 with 2 Axes>"
      ]
     },
     "metadata": {
      "needs_background": "light"
     },
     "output_type": "display_data"
    }
   ],
   "source": [
    "# creating a correlation matrix\n",
    "\n",
    "plt.figure(figsize = (13,8))\n",
    "ax = sn.heatmap(\n",
    "    dforex.corr(), \n",
    "    vmin=-1, vmax=1, center=0,\n",
    "    annot = True,\n",
    "    cmap=sn.diverging_palette(20, 220, n=200),\n",
    "    square=True\n",
    ")\n",
    "ax.set_xticklabels(\n",
    "    ax.get_xticklabels(),\n",
    "    rotation=45,\n",
    "    horizontalalignment='right'\n",
    ");"
   ]
  },
  {
   "cell_type": "code",
   "execution_count": null,
   "id": "3afe18a1",
   "metadata": {},
   "outputs": [],
   "source": []
  },
  {
   "cell_type": "markdown",
   "id": "11f8590c",
   "metadata": {},
   "source": [
    "## Forex_chfjpy with low imbalance "
   ]
  },
  {
   "cell_type": "code",
   "execution_count": 520,
   "id": "9e022f83",
   "metadata": {},
   "outputs": [
    {
     "name": "stdout",
     "output_type": "stream",
     "text": [
      "[34.44839857651246, 65.55160142348755]\n"
     ]
    },
    {
     "data": {
      "text/plain": [
       "1    921\n",
       "0    484\n",
       "Name: Class, dtype: int64"
      ]
     },
     "execution_count": 520,
     "metadata": {},
     "output_type": "execute_result"
    }
   ],
   "source": [
    "# adding 65% imbalance to the data\n",
    "\n",
    "data_imbalanced_1 = create_imbalanced_data_for_stars(0.65, 900)\n",
    "print(imbalance([data_imbalanced_1[\"Class\"].value_counts()[0], data_imbalanced_1[\"Class\"].value_counts()[1]]))\n",
    "data_imbalanced_1[\"Class\"].value_counts()"
   ]
  },
  {
   "cell_type": "code",
   "execution_count": 519,
   "id": "6ffb062a",
   "metadata": {},
   "outputs": [
    {
     "data": {
      "image/png": "[encoded data removed]",
      "text/plain": [
       "<Figure size 576x360 with 1 Axes>"
      ]
     },
     "metadata": {
      "needs_background": "light"
     },
     "output_type": "display_data"
    }
   ],
   "source": [
    "_ = data_imbalanced_1[\"Class\"].hist(bins=50, figsize=(8,5))"
   ]
  },
  {
   "cell_type": "code",
   "execution_count": null,
   "id": "941c9e39",
   "metadata": {},
   "outputs": [],
   "source": []
  },
  {
   "cell_type": "markdown",
   "id": "0ac2ba0e",
   "metadata": {},
   "source": [
    "## Forex_chfjpy with medium imbalance "
   ]
  },
  {
   "cell_type": "code",
   "execution_count": 521,
   "id": "ebe3f5e3",
   "metadata": {},
   "outputs": [
    {
     "name": "stdout",
     "output_type": "stream",
     "text": [
      "[24.57002457002457, 75.42997542997543]\n"
     ]
    },
    {
     "data": {
      "text/plain": [
       "1    921\n",
       "0    300\n",
       "Name: Class, dtype: int64"
      ]
     },
     "execution_count": 521,
     "metadata": {},
     "output_type": "execute_result"
    }
   ],
   "source": [
    "# adding 75% imbalance to the dataset\n",
    "\n",
    "data_imbalanced_2 = create_imbalanced_data_for_stars(0.75, 900)\n",
    "print(imbalance([data_imbalanced_2[\"Class\"].value_counts()[0], data_imbalanced_2[\"Class\"].value_counts()[1]]))\n",
    "data_imbalanced_2[\"Class\"].value_counts()"
   ]
  },
  {
   "cell_type": "code",
   "execution_count": 522,
   "id": "55aecf57",
   "metadata": {},
   "outputs": [
    {
     "data": {
      "image/png": "[encoded data removed]",
      "text/plain": [
       "<Figure size 576x360 with 1 Axes>"
      ]
     },
     "metadata": {
      "needs_background": "light"
     },
     "output_type": "display_data"
    }
   ],
   "source": [
    "_ = data_imbalanced_2[\"Class\"].hist(bins=50, figsize=(8,5))"
   ]
  },
  {
   "cell_type": "code",
   "execution_count": null,
   "id": "8d06bd92",
   "metadata": {},
   "outputs": [],
   "source": []
  },
  {
   "cell_type": "markdown",
   "id": "3c7b7641",
   "metadata": {},
   "source": [
    "## Forex_chfjpy dataset with high imbalance "
   ]
  },
  {
   "cell_type": "code",
   "execution_count": 523,
   "id": "8e7073e8",
   "metadata": {},
   "outputs": [
    {
     "name": "stdout",
     "output_type": "stream",
     "text": [
      "[9.79431929480901, 90.205680705191]\n"
     ]
    },
    {
     "data": {
      "text/plain": [
       "1    921\n",
       "0    100\n",
       "Name: Class, dtype: int64"
      ]
     },
     "execution_count": 523,
     "metadata": {},
     "output_type": "execute_result"
    }
   ],
   "source": [
    "# adding high imbalance - 90%\n",
    "\n",
    "data_imbalanced_3 = create_imbalanced_data_for_stars(0.90, 900)\n",
    "print(imbalance([data_imbalanced_3[\"Class\"].value_counts()[0], data_imbalanced_3[\"Class\"].value_counts()[1]]))\n",
    "data_imbalanced_3[\"Class\"].value_counts()"
   ]
  },
  {
   "cell_type": "code",
   "execution_count": 501,
   "id": "831a7ab3",
   "metadata": {},
   "outputs": [
    {
     "data": {
      "image/png": "[encoded data removed]",
      "text/plain": [
       "<Figure size 576x360 with 1 Axes>"
      ]
     },
     "metadata": {
      "needs_background": "light"
     },
     "output_type": "display_data"
    }
   ],
   "source": [
    "_ = data_imbalanced_3[\"Class\"].hist(bins=50, figsize=(8,5))"
   ]
  },
  {
   "cell_type": "code",
   "execution_count": null,
   "id": "89bf04dd",
   "metadata": {},
   "outputs": [],
   "source": []
  }
 ],
 "metadata": {
  "kernelspec": {
   "display_name": "Python 3 (ipykernel)",
   "language": "python",
   "name": "python3"
  },
  "language_info": {
   "codemirror_mode": {
    "name": "ipython",
    "version": 3
   },
   "file_extension": ".py",
   "mimetype": "text/x-python",
   "name": "python",
   "nbconvert_exporter": "python",
   "pygments_lexer": "ipython3",
   "version": "3.9.7"
  }
 },
 "nbformat": 4,
 "nbformat_minor": 5
}
