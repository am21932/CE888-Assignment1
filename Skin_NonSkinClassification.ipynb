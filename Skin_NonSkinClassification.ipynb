{
 "cells": [
  {
   "cell_type": "markdown",
   "id": "bba1ce54",
   "metadata": {},
   "source": [
    "# Skin segmentation"
   ]
  },
  {
   "cell_type": "code",
   "execution_count": 80,
   "id": "921b2bb1",
   "metadata": {},
   "outputs": [],
   "source": [
    "import pandas as pd\n",
    "import numpy as np\n",
    "import matplotlib.pyplot as plt\n",
    "import seaborn as sn\n",
    "from sklearn import preprocessing\n",
    "from sklearn.metrics import make_scorer, confusion_matrix"
   ]
  },
  {
   "cell_type": "code",
   "execution_count": 79,
   "id": "995b3dfc",
   "metadata": {},
   "outputs": [],
   "source": [
    "# Creating the function that returns the percentage of each class in the dataset \n",
    "\n",
    "def imbalance(elements):\n",
    "    percent=[]\n",
    "    sum_of_elements=np.sum(elements)\n",
    "    for i in range(len(elements)):\n",
    "        percent.append((elements[i]/sum_of_elements)*100)\n",
    "    return percent"
   ]
  },
  {
   "cell_type": "code",
   "execution_count": 81,
   "id": "6e9d9f2e",
   "metadata": {},
   "outputs": [],
   "source": [
    "# Function to create imbalanced dataset, imb_percent represents the imbalance in decimals.\n",
    "\n",
    "def create_imbalanced_data_for_stars(imb_percent, size_of_one_class):\n",
    "    size = int(size_of_one_class/imb_percent)\n",
    "    data_0 = data.query(\"Skin==1\").sample(size-size_of_one_class)\n",
    "    data_1 = data.query(\"Skin==2\")\n",
    "    return pd.concat([data_0, data_1])"
   ]
  },
  {
   "cell_type": "code",
   "execution_count": null,
   "id": "fd63e668",
   "metadata": {},
   "outputs": [],
   "source": []
  },
  {
   "cell_type": "markdown",
   "id": "04df4160",
   "metadata": {},
   "source": [
    "Reading the dataset from the txt file and adding the column names"
   ]
  },
  {
   "cell_type": "code",
   "execution_count": 89,
   "id": "3e611b65",
   "metadata": {},
   "outputs": [
    {
     "data": {
      "text/html": [
       "<div>\n",
       "<style scoped>\n",
       "    .dataframe tbody tr th:only-of-type {\n",
       "        vertical-align: middle;\n",
       "    }\n",
       "\n",
       "    .dataframe tbody tr th {\n",
       "        vertical-align: top;\n",
       "    }\n",
       "\n",
       "    .dataframe thead th {\n",
       "        text-align: right;\n",
       "    }\n",
       "</style>\n",
       "<table border=\"1\" class=\"dataframe\">\n",
       "  <thead>\n",
       "    <tr style=\"text-align: right;\">\n",
       "      <th></th>\n",
       "      <th>B</th>\n",
       "      <th>G</th>\n",
       "      <th>R</th>\n",
       "      <th>Skin</th>\n",
       "    </tr>\n",
       "  </thead>\n",
       "  <tbody>\n",
       "    <tr>\n",
       "      <th>0</th>\n",
       "      <td>73</td>\n",
       "      <td>84</td>\n",
       "      <td>122</td>\n",
       "      <td>1</td>\n",
       "    </tr>\n",
       "    <tr>\n",
       "      <th>1</th>\n",
       "      <td>72</td>\n",
       "      <td>83</td>\n",
       "      <td>121</td>\n",
       "      <td>1</td>\n",
       "    </tr>\n",
       "    <tr>\n",
       "      <th>2</th>\n",
       "      <td>70</td>\n",
       "      <td>81</td>\n",
       "      <td>119</td>\n",
       "      <td>1</td>\n",
       "    </tr>\n",
       "    <tr>\n",
       "      <th>3</th>\n",
       "      <td>70</td>\n",
       "      <td>81</td>\n",
       "      <td>119</td>\n",
       "      <td>1</td>\n",
       "    </tr>\n",
       "    <tr>\n",
       "      <th>4</th>\n",
       "      <td>69</td>\n",
       "      <td>80</td>\n",
       "      <td>118</td>\n",
       "      <td>1</td>\n",
       "    </tr>\n",
       "  </tbody>\n",
       "</table>\n",
       "</div>"
      ],
      "text/plain": [
       "    B   G    R  Skin\n",
       "0  73  84  122     1\n",
       "1  72  83  121     1\n",
       "2  70  81  119     1\n",
       "3  70  81  119     1\n",
       "4  69  80  118     1"
      ]
     },
     "execution_count": 89,
     "metadata": {},
     "output_type": "execute_result"
    }
   ],
   "source": [
    "# reading the data and adding column names to the dataframe and displaying the data \n",
    "\n",
    "data=pd.read_table('Skin_NonSkin.txt', delimiter = '\\t')\n",
    "data.columns =['B', 'G', 'R', 'Skin']\n",
    "data.head()"
   ]
  },
  {
   "cell_type": "code",
   "execution_count": 83,
   "id": "e295a02c",
   "metadata": {},
   "outputs": [
    {
     "name": "stdout",
     "output_type": "stream",
     "text": [
      "<class 'pandas.core.frame.DataFrame'>\n",
      "RangeIndex: 245056 entries, 0 to 245055\n",
      "Data columns (total 4 columns):\n",
      " #   Column  Non-Null Count   Dtype\n",
      "---  ------  --------------   -----\n",
      " 0   B       245056 non-null  int64\n",
      " 1   G       245056 non-null  int64\n",
      " 2   R       245056 non-null  int64\n",
      " 3   Skin    245056 non-null  int64\n",
      "dtypes: int64(4)\n",
      "memory usage: 7.5 MB\n"
     ]
    }
   ],
   "source": [
    "# displaying the type of columns\n",
    "\n",
    "data.info()"
   ]
  },
  {
   "cell_type": "code",
   "execution_count": 84,
   "id": "09586d95",
   "metadata": {},
   "outputs": [
    {
     "data": {
      "text/plain": [
       "2    194198\n",
       "1     50858\n",
       "Name: Skin, dtype: int64"
      ]
     },
     "execution_count": 84,
     "metadata": {},
     "output_type": "execute_result"
    }
   ],
   "source": [
    "# 1 represents skin sample and 2 nonskin sample\n",
    "data['Skin'].value_counts()"
   ]
  },
  {
   "cell_type": "code",
   "execution_count": 90,
   "id": "5581f92b",
   "metadata": {},
   "outputs": [
    {
     "name": "stdout",
     "output_type": "stream",
     "text": [
      "[20.753623661530426, 79.24637633846957]\n"
     ]
    }
   ],
   "source": [
    "# Getting the current imbalance in the dataset\n",
    "\n",
    "print(imbalance([data[\"Skin\"].value_counts()[1], data[\"Skin\"].value_counts()[2]]))"
   ]
  },
  {
   "cell_type": "code",
   "execution_count": 91,
   "id": "1f7746d8",
   "metadata": {},
   "outputs": [
    {
     "data": {
      "text/plain": [
       "2    54198\n",
       "1    50858\n",
       "Name: Skin, dtype: int64"
      ]
     },
     "execution_count": 91,
     "metadata": {},
     "output_type": "execute_result"
    }
   ],
   "source": [
    "# randomly dropping the rows with Skin value 2 to reduce the imbalance\n",
    "\n",
    "data[data[\"Skin\"]==2]\n",
    "drop_indices = np.random.choice(data[data[\"Skin\"]==2].index, 140000, replace=False)\n",
    "data = data.drop(drop_indices)\n",
    "data['Skin'].value_counts()"
   ]
  },
  {
   "cell_type": "code",
   "execution_count": 92,
   "id": "4049f17b",
   "metadata": {},
   "outputs": [
    {
     "name": "stdout",
     "output_type": "stream",
     "text": [
      "[48.4103716113311, 51.5896283886689]\n"
     ]
    }
   ],
   "source": [
    "# checking the imbalance after dropping the rows\n",
    "\n",
    "print(imbalance([data[\"Skin\"].value_counts()[1], data[\"Skin\"].value_counts()[2]]))"
   ]
  },
  {
   "cell_type": "code",
   "execution_count": 93,
   "id": "7ab30286",
   "metadata": {},
   "outputs": [
    {
     "data": {
      "text/plain": [
       "False"
      ]
     },
     "execution_count": 93,
     "metadata": {},
     "output_type": "execute_result"
    }
   ],
   "source": [
    "# check if any null values are present in the data\n",
    "\n",
    "data.isnull().values.any()"
   ]
  },
  {
   "cell_type": "code",
   "execution_count": 94,
   "id": "a0f4f83c",
   "metadata": {},
   "outputs": [
    {
     "data": {
      "image/png": "[encoded data removed]",
      "text/plain": [
       "<Figure size 1080x720 with 4 Axes>"
      ]
     },
     "metadata": {
      "needs_background": "light"
     },
     "output_type": "display_data"
    }
   ],
   "source": [
    "# plotting the histograms on all the columns\n",
    "\n",
    "_ = data.hist(bins=50, figsize=(15,10))"
   ]
  },
  {
   "cell_type": "code",
   "execution_count": 95,
   "id": "2739acc5",
   "metadata": {},
   "outputs": [
    {
     "data": {
      "image/png": "[encoded data removed]",
      "text/plain": [
       "<Figure size 576x360 with 2 Axes>"
      ]
     },
     "metadata": {
      "needs_background": "light"
     },
     "output_type": "display_data"
    }
   ],
   "source": [
    "# Plotting the heat map for the columns\n",
    "\n",
    "plt.figure(figsize = (8,5))\n",
    "ax = sn.heatmap(\n",
    "    data.corr(), \n",
    "    vmin=-1, vmax=1, center=0,\n",
    "    annot = True,\n",
    "    cmap=sn.diverging_palette(20, 220, n=200),\n",
    "    square=True\n",
    ")\n",
    "ax.set_xticklabels(\n",
    "    ax.get_xticklabels(),\n",
    "    rotation=45,\n",
    "    horizontalalignment='right'\n",
    ");"
   ]
  },
  {
   "cell_type": "code",
   "execution_count": null,
   "id": "bc1f0bf0",
   "metadata": {},
   "outputs": [],
   "source": []
  },
  {
   "cell_type": "markdown",
   "id": "ffa5dfba",
   "metadata": {},
   "source": [
    "## Skin_NonSkin dataset with low imbalance"
   ]
  },
  {
   "cell_type": "code",
   "execution_count": 96,
   "id": "8acaf764",
   "metadata": {},
   "outputs": [
    {
     "name": "stdout",
     "output_type": "stream",
     "text": [
      "[34.91606023488724, 65.08393976511276]\n"
     ]
    },
    {
     "data": {
      "text/plain": [
       "2    54198\n",
       "1    29076\n",
       "Name: Skin, dtype: int64"
      ]
     },
     "execution_count": 96,
     "metadata": {},
     "output_type": "execute_result"
    }
   ],
   "source": [
    "# adding imbalance to the dataset\n",
    "\n",
    "data_imbalanced_1 = create_imbalanced_data_for_stars(0.65, 54000)\n",
    "print(imbalance([data_imbalanced_1[\"Skin\"].value_counts()[1], data_imbalanced_1[\"Skin\"].value_counts()[2]]))\n",
    "data_imbalanced_1[\"Skin\"].value_counts()"
   ]
  },
  {
   "cell_type": "code",
   "execution_count": 97,
   "id": "bd01b194",
   "metadata": {},
   "outputs": [
    {
     "data": {
      "image/png": "[encoded data removed]",
      "text/plain": [
       "<Figure size 576x360 with 1 Axes>"
      ]
     },
     "metadata": {
      "needs_background": "light"
     },
     "output_type": "display_data"
    }
   ],
   "source": [
    "_ = data_imbalanced_1[\"Skin\"].hist(bins=50, figsize=(8,5))"
   ]
  },
  {
   "cell_type": "markdown",
   "id": "43ea08ea",
   "metadata": {},
   "source": [
    "## Skin_NonSkin dataset with medium imbalance"
   ]
  },
  {
   "cell_type": "code",
   "execution_count": 98,
   "id": "9fe47b24",
   "metadata": {},
   "outputs": [
    {
     "name": "stdout",
     "output_type": "stream",
     "text": [
      "[24.93143854400399, 75.068561455996]\n"
     ]
    },
    {
     "data": {
      "text/plain": [
       "2    54198\n",
       "1    18000\n",
       "Name: Skin, dtype: int64"
      ]
     },
     "execution_count": 98,
     "metadata": {},
     "output_type": "execute_result"
    }
   ],
   "source": [
    "# adding 75percent imbalance\n",
    "\n",
    "data_imbalanced_2 = create_imbalanced_data_for_stars(0.75, 54000)\n",
    "print(imbalance([data_imbalanced_2[\"Skin\"].value_counts()[1], data_imbalanced_2[\"Skin\"].value_counts()[2]]))\n",
    "data_imbalanced_2[\"Skin\"].value_counts()"
   ]
  },
  {
   "cell_type": "code",
   "execution_count": 99,
   "id": "79c6c39d",
   "metadata": {},
   "outputs": [
    {
     "data": {
      "image/png": "[encoded data removed]",
      "text/plain": [
       "<Figure size 576x360 with 1 Axes>"
      ]
     },
     "metadata": {
      "needs_background": "light"
     },
     "output_type": "display_data"
    }
   ],
   "source": [
    "_ = data_imbalanced_2[\"Skin\"].hist(bins=50, figsize=(8,5))"
   ]
  },
  {
   "cell_type": "markdown",
   "id": "d2c47fc7",
   "metadata": {},
   "source": [
    "## Skin_NonSkin dataset with high imbalance"
   ]
  },
  {
   "cell_type": "code",
   "execution_count": 100,
   "id": "ba544765",
   "metadata": {},
   "outputs": [
    {
     "name": "stdout",
     "output_type": "stream",
     "text": [
      "[9.96710854181202, 90.03289145818798]\n"
     ]
    },
    {
     "data": {
      "text/plain": [
       "2    54198\n",
       "1     6000\n",
       "Name: Skin, dtype: int64"
      ]
     },
     "execution_count": 100,
     "metadata": {},
     "output_type": "execute_result"
    }
   ],
   "source": [
    "# adding high imbalance to the dataset\n",
    "\n",
    "data_imbalanced_3 = create_imbalanced_data_for_stars(0.9, 54000)\n",
    "print(imbalance([data_imbalanced_3[\"Skin\"].value_counts()[1], data_imbalanced_3[\"Skin\"].value_counts()[2]]))\n",
    "data_imbalanced_3[\"Skin\"].value_counts()"
   ]
  },
  {
   "cell_type": "code",
   "execution_count": 101,
   "id": "c192c062",
   "metadata": {},
   "outputs": [
    {
     "data": {
      "image/png": "[encoded data removed]",
      "text/plain": [
       "<Figure size 576x360 with 1 Axes>"
      ]
     },
     "metadata": {
      "needs_background": "light"
     },
     "output_type": "display_data"
    }
   ],
   "source": [
    "_ = data_imbalanced_3[\"Skin\"].hist(bins=50, figsize=(8,5))"
   ]
  },
  {
   "cell_type": "code",
   "execution_count": null,
   "id": "f29e70d1",
   "metadata": {},
   "outputs": [],
   "source": []
  },
  {
   "cell_type": "code",
   "execution_count": null,
   "id": "287f3a95",
   "metadata": {},
   "outputs": [],
   "source": []
  }
 ],
 "metadata": {
  "kernelspec": {
   "display_name": "Python 3 (ipykernel)",
   "language": "python",
   "name": "python3"
  },
  "language_info": {
   "codemirror_mode": {
    "name": "ipython",
    "version": 3
   },
   "file_extension": ".py",
   "mimetype": "text/x-python",
   "name": "python",
   "nbconvert_exporter": "python",
   "pygments_lexer": "ipython3",
   "version": "3.9.7"
  }
 },
 "nbformat": 4,
 "nbformat_minor": 5
}
